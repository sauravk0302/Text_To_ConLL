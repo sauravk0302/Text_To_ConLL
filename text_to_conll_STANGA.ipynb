{
  "nbformat": 4,
  "nbformat_minor": 0,
  "metadata": {
    "colab": {
      "name": "text_to_conll_STANGA.ipynb",
      "provenance": []
    },
    "kernelspec": {
      "name": "python3",
      "display_name": "Python 3"
    }
  },
  "cells": [
    {
      "cell_type": "code",
      "metadata": {
        "colab": {
          "base_uri": "https://localhost:8080/"
        },
        "id": "n62Pjso1deKw",
        "outputId": "4c5ffe06-096a-44d3-8d85-b19611b40c72"
      },
      "source": [
        "pip install stanza"
      ],
      "execution_count": null,
      "outputs": [
        {
          "output_type": "stream",
          "text": [
            "Collecting stanza\n",
            "\u001b[?25l  Downloading https://files.pythonhosted.org/packages/e7/8b/3a9e7a8d8cb14ad6afffc3983b7a7322a3a24d94ebc978a70746fcffc085/stanza-1.1.1-py3-none-any.whl (227kB)\n",
            "\r\u001b[K     |█▍                              | 10kB 14.3MB/s eta 0:00:01\r\u001b[K     |██▉                             | 20kB 17.8MB/s eta 0:00:01\r\u001b[K     |████▎                           | 30kB 13.0MB/s eta 0:00:01\r\u001b[K     |█████▊                          | 40kB 10.1MB/s eta 0:00:01\r\u001b[K     |███████▏                        | 51kB 7.4MB/s eta 0:00:01\r\u001b[K     |████████▋                       | 61kB 7.1MB/s eta 0:00:01\r\u001b[K     |██████████                      | 71kB 7.2MB/s eta 0:00:01\r\u001b[K     |███████████▌                    | 81kB 7.9MB/s eta 0:00:01\r\u001b[K     |█████████████                   | 92kB 8.1MB/s eta 0:00:01\r\u001b[K     |██████████████▍                 | 102kB 8.3MB/s eta 0:00:01\r\u001b[K     |███████████████▉                | 112kB 8.3MB/s eta 0:00:01\r\u001b[K     |█████████████████▎              | 122kB 8.3MB/s eta 0:00:01\r\u001b[K     |██████████████████▊             | 133kB 8.3MB/s eta 0:00:01\r\u001b[K     |████████████████████▏           | 143kB 8.3MB/s eta 0:00:01\r\u001b[K     |█████████████████████▋          | 153kB 8.3MB/s eta 0:00:01\r\u001b[K     |███████████████████████         | 163kB 8.3MB/s eta 0:00:01\r\u001b[K     |████████████████████████▌       | 174kB 8.3MB/s eta 0:00:01\r\u001b[K     |██████████████████████████      | 184kB 8.3MB/s eta 0:00:01\r\u001b[K     |███████████████████████████▍    | 194kB 8.3MB/s eta 0:00:01\r\u001b[K     |████████████████████████████▉   | 204kB 8.3MB/s eta 0:00:01\r\u001b[K     |██████████████████████████████▎ | 215kB 8.3MB/s eta 0:00:01\r\u001b[K     |███████████████████████████████▊| 225kB 8.3MB/s eta 0:00:01\r\u001b[K     |████████████████████████████████| 235kB 8.3MB/s \n",
            "\u001b[?25hRequirement already satisfied: torch>=1.3.0 in /usr/local/lib/python3.6/dist-packages (from stanza) (1.7.0+cu101)\n",
            "Requirement already satisfied: protobuf in /usr/local/lib/python3.6/dist-packages (from stanza) (3.12.4)\n",
            "Requirement already satisfied: numpy in /usr/local/lib/python3.6/dist-packages (from stanza) (1.19.4)\n",
            "Requirement already satisfied: requests in /usr/local/lib/python3.6/dist-packages (from stanza) (2.23.0)\n",
            "Requirement already satisfied: tqdm in /usr/local/lib/python3.6/dist-packages (from stanza) (4.41.1)\n",
            "Requirement already satisfied: typing-extensions in /usr/local/lib/python3.6/dist-packages (from torch>=1.3.0->stanza) (3.7.4.3)\n",
            "Requirement already satisfied: dataclasses in /usr/local/lib/python3.6/dist-packages (from torch>=1.3.0->stanza) (0.8)\n",
            "Requirement already satisfied: future in /usr/local/lib/python3.6/dist-packages (from torch>=1.3.0->stanza) (0.16.0)\n",
            "Requirement already satisfied: setuptools in /usr/local/lib/python3.6/dist-packages (from protobuf->stanza) (51.0.0)\n",
            "Requirement already satisfied: six>=1.9 in /usr/local/lib/python3.6/dist-packages (from protobuf->stanza) (1.15.0)\n",
            "Requirement already satisfied: chardet<4,>=3.0.2 in /usr/local/lib/python3.6/dist-packages (from requests->stanza) (3.0.4)\n",
            "Requirement already satisfied: certifi>=2017.4.17 in /usr/local/lib/python3.6/dist-packages (from requests->stanza) (2020.12.5)\n",
            "Requirement already satisfied: idna<3,>=2.5 in /usr/local/lib/python3.6/dist-packages (from requests->stanza) (2.10)\n",
            "Requirement already satisfied: urllib3!=1.25.0,!=1.25.1,<1.26,>=1.21.1 in /usr/local/lib/python3.6/dist-packages (from requests->stanza) (1.24.3)\n",
            "Installing collected packages: stanza\n",
            "Successfully installed stanza-1.1.1\n"
          ],
          "name": "stdout"
        }
      ]
    },
    {
      "cell_type": "code",
      "metadata": {
        "colab": {
          "base_uri": "https://localhost:8080/"
        },
        "id": "UNQPOE6ReYsH",
        "outputId": "406ce58e-358c-4d4a-d7bd-e2e87a5c9acd"
      },
      "source": [
        " import stanza\r\n",
        " stanza.download('en') # download English model\r\n",
        " nlp = stanza.Pipeline('en',processors='tokenize,ner') # initialize English neural pipeline\r\n"
      ],
      "execution_count": null,
      "outputs": [
        {
          "output_type": "stream",
          "text": [
            "Downloading https://raw.githubusercontent.com/stanfordnlp/stanza-resources/master/resources_1.1.0.json: 122kB [00:00, 20.2MB/s]                    \n",
            "2021-01-04 11:41:49 INFO: Downloading default packages for language: en (English)...\n",
            "2021-01-04 11:41:50 INFO: File exists: /root/stanza_resources/en/default.zip.\n",
            "2021-01-04 11:41:57 INFO: Finished downloading models and saved to /root/stanza_resources.\n",
            "2021-01-04 11:41:57 INFO: Loading these models for language: en (English):\n",
            "=========================\n",
            "| Processor | Package   |\n",
            "-------------------------\n",
            "| tokenize  | ewt       |\n",
            "| ner       | ontonotes |\n",
            "=========================\n",
            "\n",
            "2021-01-04 11:41:57 INFO: Use device: cpu\n",
            "2021-01-04 11:41:57 INFO: Loading: tokenize\n",
            "2021-01-04 11:41:57 INFO: Loading: ner\n",
            "2021-01-04 11:41:58 INFO: Done loading processors!\n"
          ],
          "name": "stderr"
        }
      ]
    },
    {
      "cell_type": "code",
      "metadata": {
        "id": "bDK30PGSM_NC"
      },
      "source": [
        " doc = nlp(\"Saurav kumar from Nalanda, BIHAR\") # run annotation over a sentence"
      ],
      "execution_count": null,
      "outputs": []
    },
    {
      "cell_type": "code",
      "metadata": {
        "colab": {
          "base_uri": "https://localhost:8080/"
        },
        "id": "Ji1D6qwYipN7",
        "outputId": "11615520-16bf-45a4-f797-899119881ead"
      },
      "source": [
        "doc"
      ],
      "execution_count": null,
      "outputs": [
        {
          "output_type": "execute_result",
          "data": {
            "text/plain": [
              "[\n",
              "  [\n",
              "    {\n",
              "      \"id\": 1,\n",
              "      \"text\": \"Saurav\",\n",
              "      \"misc\": \"start_char=0|end_char=6\",\n",
              "      \"ner\": \"B-PERSON\"\n",
              "    },\n",
              "    {\n",
              "      \"id\": 2,\n",
              "      \"text\": \"kumar\",\n",
              "      \"misc\": \"start_char=7|end_char=12\",\n",
              "      \"ner\": \"E-PERSON\"\n",
              "    },\n",
              "    {\n",
              "      \"id\": 3,\n",
              "      \"text\": \"from\",\n",
              "      \"misc\": \"start_char=13|end_char=17\",\n",
              "      \"ner\": \"O\"\n",
              "    },\n",
              "    {\n",
              "      \"id\": 4,\n",
              "      \"text\": \"Nalanda\",\n",
              "      \"misc\": \"start_char=18|end_char=25\",\n",
              "      \"ner\": \"S-GPE\"\n",
              "    },\n",
              "    {\n",
              "      \"id\": 5,\n",
              "      \"text\": \",\",\n",
              "      \"misc\": \"start_char=25|end_char=26\",\n",
              "      \"ner\": \"O\"\n",
              "    },\n",
              "    {\n",
              "      \"id\": 6,\n",
              "      \"text\": \"BIHAR\",\n",
              "      \"misc\": \"start_char=27|end_char=32\",\n",
              "      \"ner\": \"S-GPE\"\n",
              "    }\n",
              "  ]\n",
              "]"
            ]
          },
          "metadata": {
            "tags": []
          },
          "execution_count": 65
        }
      ]
    },
    {
      "cell_type": "code",
      "metadata": {
        "colab": {
          "base_uri": "https://localhost:8080/"
        },
        "id": "f9d33a3lLoLH",
        "outputId": "0baf4cf1-d0c4-4fe7-825b-383ae4fcc8ab"
      },
      "source": [
        "doc.ents"
      ],
      "execution_count": null,
      "outputs": [
        {
          "output_type": "execute_result",
          "data": {
            "text/plain": [
              "[{\n",
              "   \"text\": \"Saurav kumar\",\n",
              "   \"type\": \"PERSON\",\n",
              "   \"start_char\": 0,\n",
              "   \"end_char\": 12\n",
              " }, {\n",
              "   \"text\": \"Nalanda\",\n",
              "   \"type\": \"GPE\",\n",
              "   \"start_char\": 18,\n",
              "   \"end_char\": 25\n",
              " }, {\n",
              "   \"text\": \"BIHAR\",\n",
              "   \"type\": \"GPE\",\n",
              "   \"start_char\": 27,\n",
              "   \"end_char\": 32\n",
              " }]"
            ]
          },
          "metadata": {
            "tags": []
          },
          "execution_count": 66
        }
      ]
    },
    {
      "cell_type": "code",
      "metadata": {
        "colab": {
          "base_uri": "https://localhost:8080/"
        },
        "id": "tcp9PooKKglo",
        "outputId": "5f33ed30-c40a-4970-d821-4519f1e7e436"
      },
      "source": [
        "print(\"Mention\\t-\\tType\")\r\n",
        "for ent in doc.ents:\r\n",
        "    print(\"{}\\t{}\".format(ent.text, ent.type))"
      ],
      "execution_count": null,
      "outputs": [
        {
          "output_type": "stream",
          "text": [
            "Mention\t-\tType\n",
            "Saurav kumar\tPERSON\n",
            "Nalanda\tGPE\n",
            "BIHAR\tGPE\n"
          ],
          "name": "stdout"
        }
      ]
    },
    {
      "cell_type": "markdown",
      "metadata": {
        "id": "71k7E72PKgLR"
      },
      "source": [
        ""
      ]
    }
  ]
}